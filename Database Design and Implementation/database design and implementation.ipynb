{
 "cells": [
  {
   "cell_type": "markdown",
   "metadata": {},
   "source": [
    "## Project : Database Design and Implementation"
   ]
  },
  {
   "cell_type": "markdown",
   "metadata": {},
   "source": [
    "In this scenario, you have recently been hired as a Data Engineer by a New York based coffee shop chain that is looking to expand nationally by opening a number of franchise locations. As part of their expansion process, they want to streamline operations and revamp their data infrastructure.\n",
    "\n",
    "Your job is to design their relational database systems for improved operational efficiencies and to make it easier for their executives to make data driven decisions.\n",
    "\n",
    "Currently their data resides in several different systems: accounting software, suppliers’ databases, point of sales (POS) systems, and even spreadsheets. You will review the data in all of these systems and design a central database to house all of the data. You will then create the database objects and load them with source data. Finally, you will create subsets of data that your business partners require, export them, and then load them into staging databases that use different RDBMS."
   ]
  },
  {
   "cell_type": "markdown",
   "metadata": {},
   "source": [
    "### Data used in this project\n",
    "In this project, you will be working with a subset of data from the [Coffee shop sample data](https://community.ibm.com/community/user/businessanalytics/blogs/steven-macko/2019/07/12/beanie-coffee-1113?utm_source=skills_network&utm_content=in_lab_content_link&utm_id=Lab-IBM-DB0110EN-SkillsNetwork).\n",
    "\n",
    "You will use a modified version of the data for the project, so to succeed in the project, download the linked files when prompted in the instructions. You do not need to use any data from the original source.\n",
    "\n",
    "In your scenario, you will be working with data from the following sources:\n",
    "\n",
    "- Staff information held in a spreadsheet at HQ\n",
    "- Sales outlet information held in a spreadsheet at HQ\n",
    "- Sales data output as a CSV file from the POS system in the sales outlets\n",
    "- Customer data output as a CSV file from a bespoke customer relationship management system\n",
    "- Product information maintained in a spreadsheet exported from your supplier’s database"
   ]
  },
  {
   "cell_type": "markdown",
   "metadata": {},
   "source": [
    "Objectives\n",
    "- Identify entities.\n",
    "- Identity attributes.\n",
    "- Create an entity relationship diagram (ERD) using the pgAdmin ERD Tool.\n",
    "- Normalize tables.\n",
    "- Define keys and relationships.\n",
    "- Create database objects by generating and running the SQL script from the ERD Tool.\n",
    "- Create a view and export the data.\n",
    "- Create a materialized view and export the data.\n",
    "- Import data into a Db2 database.\n",
    "- Import data into a MySQL database."
   ]
  },
  {
   "cell_type": "markdown",
   "metadata": {},
   "source": [
    "### Task 1: Identify entities\n",
    "The first step when designing a new database is to review any existing data and identify the entities for your new system.\n",
    "\n",
    "The following image shows sample data from each of the data sources that you will be working with to design your new central database. Review the image and identify the entities you plan to create.\n",
    "![](existing_data.png)\n"
   ]
  },
  {
   "cell_type": "markdown",
   "metadata": {},
   "source": [
    "The entities includes:\n",
    "- staff\n",
    "- sales_outlet\n",
    "- sales_transaction\n",
    "- customer\n",
    "- product "
   ]
  },
  {
   "cell_type": "markdown",
   "metadata": {},
   "source": [
    "### Task 2: Identify attributes\n",
    "In this task, you will identify the attributes for one of the entities that you plan to create.\n",
    "\n",
    "Using the information from the sample data in the image from Task 1, identify the attributes for the entity that will store the sales transaction data.\n",
    "\n",
    "Make a list of the sales transaction attributes that you identified."
   ]
  },
  {
   "cell_type": "markdown",
   "metadata": {},
   "source": [
    "The attributes in sales transaction entity are:\n",
    "- transaction_id\n",
    "- transaction_date\n",
    "- transaction_time\n",
    "- sales_outlet_id\n",
    "- staff_id\n",
    "- customer_id\n",
    "- product_id\n",
    "- quantity\n",
    "- price"
   ]
  },
  {
   "cell_type": "markdown",
   "metadata": {},
   "source": [
    "### Task 3: Create an ERD\n",
    "Now that you have defined some of your attributes and entities, you can determine the tables and columns for them and create an ERD.\n",
    "\n",
    "Create a new database named COFFEE, view the schemas in the new COFFEE database, and then start a new ERD project.\n",
    "\n",
    "Add a table to the ERD for the sale transactions and product entity\n",
    "\n",
    "![Sales transaction entity ERD](Task3A.png)\n",
    "![product entity ERD](Task3B.png)"
   ]
  },
  {
   "cell_type": "markdown",
   "metadata": {},
   "source": [
    "### Task 4: Normalize tables\n",
    "When reviewing your ERD you notice that it does not conform to second normal form. In this task, you will normalize some of the tables within the database.\n",
    "\n",
    "Review the data in the sales transaction table. Note that the transaction id column does not contain unique values because some transactions include multiple products.\n",
    "\n",
    "Determine which columns should be stored in a separate table to remove the repeating rows and to put this table into second normal form.\n",
    "\n",
    "Add a new table named *sales_detail* to the ERD, define the columns in the new table, and delete the moved columns from the sales transaction table, leaving a matching column in each of two tables to later create a relationship between them.\n",
    "\n",
    "Review the data in the product table. Note that the product category and product type columns contain redundant data.\n",
    "\n",
    "Determine which columns should be stored in a separate table to reduce redundant data and to put this table into second normal form.\n",
    "\n",
    "Add a new table named *product_type* to the ERD, define the columns in the new table, and delete the moved columns from the product table, , leaving a matching column in each of two tables to later create a relationship between them.\n",
    "\n",
    "![Normalize sales detail](Task4A.png)\n",
    "![Normalize product type](Task4B.png)"
   ]
  },
  {
   "cell_type": "markdown",
   "metadata": {},
   "source": [
    "### Task 5: Define keys and relationships\n",
    "After normalizing your tables, you can define their primary keys and define relationships between the tables in your ERD. Identify an appropriate column in each table to be a primary key and create the primary keys in the tables in your ERD.\n",
    "\n",
    "Identify the relationships between the following pairs of tables and then create the relationships in your ERD:\n",
    "\n",
    "![erd](Task5B.png)"
   ]
  },
  {
   "cell_type": "markdown",
   "metadata": {},
   "source": [
    "### Task 6: Create database objects by generating and running the SQL script from the ERD Tool\n",
    "Now that your design is complete, you will generate an SQL script from your ERD which you could use to create your database schema. Use the Generate SQL functionality in the ERD Tool to create an SQL script from your ERD. The generated script is the *GeneratedScript.sql* file.\n",
    "\n",
    "Populate the table with the *CoffeeData.sql* file. View the first 100 rows of the sales_detail table.\n",
    "\n",
    "![generated script](Task6A.png)\n",
    "\n",
    "![query](Task6B.png)"
   ]
  },
  {
   "cell_type": "markdown",
   "metadata": {},
   "source": [
    "### Task 7: Create a view and export the data\n",
    "The external payroll company have requested a list of employees and the locations at which they work. This should not include the CEO or CFO who own the company. In this task, you will create a view in your PostgreSQL database that returns this information and export the results to a CSV file.\n",
    "\n",
    "In your COFFEE database, create a new view named *staff_locations_view*\n",
    "\n",
    "![staff_location_view](Task7.png)"
   ]
  },
  {
   "cell_type": "markdown",
   "metadata": {},
   "source": [
    "### Task 8: Create a materialized view and export the data\n",
    "A marketing consultant requires access to your product data in their MySQL database for a marketing campaign. You will create a materialized view in your PostgreSQL database that returns this information and export the results to a CSV file.\n",
    "\n",
    "In your COFFEE database, create a new materialized view named *product_info_m-view* using the following SQL:\n",
    "\n",
    "```sql\n",
    "SELECT product.product_name, product.description, product_type.product_category\n",
    "FROM product\n",
    "JOIN product_type\n",
    "ON product.product_type_id = product_type.product_type_id;\n",
    "\n",
    "```\n",
    "Refresh the materialized view with data.\n",
    "\n",
    "View all the rows returned from the view.\n",
    "\n",
    "Save the results of the query to a file named product_info_m-view.csv on your local computer storage.\n",
    "\n"
   ]
  },
  {
   "cell_type": "markdown",
   "metadata": {},
   "source": []
  }
 ],
 "metadata": {
  "kernelspec": {
   "display_name": "base",
   "language": "python",
   "name": "python3"
  },
  "language_info": {
   "codemirror_mode": {
    "name": "ipython",
    "version": 3
   },
   "file_extension": ".py",
   "mimetype": "text/x-python",
   "name": "python",
   "nbconvert_exporter": "python",
   "pygments_lexer": "ipython3",
   "version": "3.10.9"
  }
 },
 "nbformat": 4,
 "nbformat_minor": 2
}
