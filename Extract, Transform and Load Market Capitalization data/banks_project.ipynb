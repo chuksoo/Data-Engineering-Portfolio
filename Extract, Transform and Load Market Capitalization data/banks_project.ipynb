{
 "cells": [
  {
   "cell_type": "markdown",
   "metadata": {},
   "source": [
    "#### Acquiring and Processing Information on the World's Largest Banks"
   ]
  },
  {
   "cell_type": "markdown",
   "metadata": {},
   "source": [
    "You have been hired as a data engineer by research organization. Your boss has asked you to create a code that can be used to compile the list of the top 10 largest banks in the world ranked by market capitalization in billion USD. Further, the data needs to be transformed and stored in USD, GBP, EUR and INR as well, in accordance with the exchange rate information that has been made available to you as a CSV file. The processed information table is to be saved locally in a CSV format and as a database table.\n",
    "\n",
    "Your job is to create an automated system to generate this information so that the same can be executed in every financial quarter to prepare the report."
   ]
  },
  {
   "cell_type": "markdown",
   "metadata": {},
   "source": [
    "##### ETL Process"
   ]
  },
  {
   "cell_type": "code",
   "execution_count": 1,
   "metadata": {},
   "outputs": [
    {
     "name": "stdout",
     "output_type": "stream",
     "text": [
      "Project libraries have been imported successfully\n"
     ]
    }
   ],
   "source": [
    "# Import the libraries for web scraping and data manipulation\n",
    "import requests\n",
    "import sqlite3\n",
    "import numpy as np\n",
    "import pandas as pd\n",
    "from bs4 import BeautifulSoup\n",
    "from datetime import datetime\n",
    "print(\"Project libraries have been imported successfully\")\n",
    "\n",
    "# Store final output data and all logs\n",
    "log_file = \"code_log.txt\"\n",
    "target_file = \"Largest_banks_data.csv\"\n",
    "\n",
    "# Initialize all known entities\n",
    "data_url = 'https://en.wikipedia.org/wiki/List_of_largest_banks'\n",
    "csv_url = 'https://cf-courses-data.s3.us.cloud-object-storage.appdomain.cloud/IBMSkillsNetwork-PY0221EN-Coursera/labs/v2/exchange_rate.csv'\n",
    "table_attribs = [\"Name\", \"MC_USD_Billions\"]\n",
    "table_attribs_final = [\"Name\", \"MC_USD_Billion\", \"MC_GBP_Billion\", \"MC_EUR_Billion\", \"MC_INR_Billion\"]\n",
    "\n",
    "db_name = \"Banks.db\"\n",
    "table_name = \"Largest_banks\"\n",
    "csv_path = '~/Documents/IBM-Data-Engineering-Professional/Course 3 - Python Project for Data Engineering/Extract, Transform and Load Market Capitalization data/Largest_banks_data.csv'\n",
    "\n",
    "# Useful functions for ETL operations on Market capitalization data\n",
    "# Extraction\n",
    "def extract(data_url, table_attribs):\n",
    "    html_page = requests.get(data_url).text\n",
    "    data = BeautifulSoup(html_page, 'html.parser')\n",
    "    # Using find_all() function\n",
    "    extracted_data = pd.DataFrame(columns = table_attribs)\n",
    "    tables = data.find_all(\"tbody\")\n",
    "    rows = tables[0].find_all(\"tr\")\n",
    "    for row in rows:\n",
    "        col = row.find_all(\"td\")\n",
    "        if len(col) != 0:\n",
    "            data_dict = {\"Name\": col[1].contents[2].contents,\n",
    "                        \"MC_USD_Billions\": col[2].contents[0].strip()}\n",
    "            df1 = pd.DataFrame(data_dict, index = [0])\n",
    "            extracted_data = pd.concat([extracted_data, df1], ignore_index = True)\n",
    "    return extracted_data\n",
    "\n",
    "\n",
    "# Transformation\n",
    "def transform(df, csv_url): \n",
    "    ''' This function gets exchange information from csv_url and transform the dataframe by \n",
    "    adding columns for Market Capitalization in GBP, EUR, and INR, rounded to 2 decimal places.\n",
    "    The function returns the transformed dataframe.'''\n",
    "    # Get exchange data\n",
    "    exchange_info = pd.read_csv(csv_url)\n",
    "    # Convert GDP value from string to float\n",
    "    GDP_list = df[\"MC_USD_Billions\"].tolist()\n",
    "    GDP_list = [float(x) for x in GDP_list]\n",
    "    df[\"MC_USD_Billions\"] = GDP_list\n",
    "    # Perform transformation\n",
    "    gbp_rate = exchange_info.loc[exchange_info[\"Currency\"] == \"GBP\", \"Rate\"].values\n",
    "    eur_rate = exchange_info.loc[exchange_info[\"Currency\"] == \"EUR\", \"Rate\"].values\n",
    "    inr_rate = exchange_info.loc[exchange_info[\"Currency\"] == \"INR\", \"Rate\"].values\n",
    "    df[\"MC_GBP_Billions\"] = round(df.MC_USD_Billions * gbp_rate, 2)\n",
    "    df[\"MC_EUR_Billions\"] = round(df.MC_USD_Billions * eur_rate, 2)\n",
    "    df[\"MC_INR_Billions\"] = round(df.MC_USD_Billions * inr_rate, 2)\n",
    "    return df\n",
    "\n",
    "# Loading and Logging\n",
    "def load_to_csv(df, csv_path):\n",
    "    ''' This function saves the final dataframe as a `CSV` file \n",
    "    in the provided path. Function returns nothing.'''\n",
    "    df.to_csv(csv_path)\n",
    "\n",
    "def load_to_db(df, sql_connection, table_name):\n",
    "    ''' This function saves the final dataframe as a database table\n",
    "    with the provided name. Function returns nothing.'''\n",
    "    df.to_sql(table_name, sql_connection, if_exists= \"replace\", index = False)\n",
    "    \n",
    "def run_query(query_statement, sql_connection):\n",
    "    ''' This function runs the stated query on the database table and\n",
    "    prints the output on the terminal. Function returns nothing. '''\n",
    "    print(query_statement)\n",
    "    return pd.read_sql(query_statement, sql_connection)\n",
    "    \n",
    "def log_progress(message):\n",
    "    ''' This function logs the mentioned message at a given stage of the code execution to a log file. Function returns nothing'''\n",
    "    timestamp_format = '%Y-%h-%d-%H:%M:%S' # Year-Monthname-Day-Hour-Minute-Second \n",
    "    now = datetime.now() # get current timestamp \n",
    "    timestamp = now.strftime(timestamp_format) \n",
    "    with open(\"./code_log.txt\", \"a\") as f: \n",
    "        f.write(timestamp + ', ' + message + '\\n')   \n"
   ]
  },
  {
   "cell_type": "markdown",
   "metadata": {},
   "source": [
    "##### Testing ETL operations and log progress"
   ]
  },
  {
   "cell_type": "code",
   "execution_count": 2,
   "metadata": {},
   "outputs": [
    {
     "name": "stdout",
     "output_type": "stream",
     "text": [
      "Transformed Data\n",
      "                                      Name  MC_USD_Billions  MC_GBP_Billions  \\\n",
      "0                           JPMorgan Chase           419.25           335.40   \n",
      "1                          Bank of America           231.52           185.22   \n",
      "2  Industrial and Commercial Bank of China           194.56           155.65   \n",
      "3               Agricultural Bank of China           160.68           128.54   \n",
      "4                                HDFC Bank           157.91           126.33   \n",
      "5                              Wells Fargo           155.87           124.70   \n",
      "6                        HSBC Holdings PLC           148.90           119.12   \n",
      "7                           Morgan Stanley           140.83           112.66   \n",
      "8                  China Construction Bank           139.82           111.86   \n",
      "9                            Bank of China           136.81           109.45   \n",
      "\n",
      "   MC_EUR_Billions  MC_INR_Billions  \n",
      "0           389.90         34776.79  \n",
      "1           215.31         19204.58  \n",
      "2           180.94         16138.75  \n",
      "3           149.43         13328.41  \n",
      "4           146.86         13098.63  \n",
      "5           144.96         12929.42  \n",
      "6           138.48         12351.26  \n",
      "7           130.97         11681.85  \n",
      "8           130.03         11598.07  \n",
      "9           127.23         11348.39  \n"
     ]
    },
    {
     "ename": "OSError",
     "evalue": "Cannot save file into a non-existent directory: '/Users/chuksokoli/Documents/IBM-Data-Engineering-Professional/Course 3 - Python Project for Data Engineering/Extract, Transform and Load Market Capitalization data'",
     "output_type": "error",
     "traceback": [
      "\u001b[0;31m---------------------------------------------------------------------------\u001b[0m",
      "\u001b[0;31mOSError\u001b[0m                                   Traceback (most recent call last)",
      "\u001b[1;32m/Users/chuksokoli/Documents/Online _Coursera/IBM Data Engineering Professional/Course 3 - Python Project for Data Engineering/Extract, Transform and Load Market Capitalization data/banks_project.ipynb Cell 6\u001b[0m line \u001b[0;36m1\n\u001b[1;32m     <a href='vscode-notebook-cell:/Users/chuksokoli/Documents/Online%20_Coursera/IBM%20Data%20Engineering%20Professional/Course%203%20-%20Python%20Project%20for%20Data%20Engineering/Extract%2C%20Transform%20and%20Load%20Market%20Capitalization%20data/banks_project.ipynb#W5sZmlsZQ%3D%3D?line=10'>11</a>\u001b[0m \u001b[39m# Log the completion of the Transformation process and begin loading process\u001b[39;00m\n\u001b[1;32m     <a href='vscode-notebook-cell:/Users/chuksokoli/Documents/Online%20_Coursera/IBM%20Data%20Engineering%20Professional/Course%203%20-%20Python%20Project%20for%20Data%20Engineering/Extract%2C%20Transform%20and%20Load%20Market%20Capitalization%20data/banks_project.ipynb#W5sZmlsZQ%3D%3D?line=11'>12</a>\u001b[0m log_progress(\u001b[39m\"\u001b[39m\u001b[39mData transformation complete. Initiating loading process\u001b[39m\u001b[39m\"\u001b[39m)\n\u001b[0;32m---> <a href='vscode-notebook-cell:/Users/chuksokoli/Documents/Online%20_Coursera/IBM%20Data%20Engineering%20Professional/Course%203%20-%20Python%20Project%20for%20Data%20Engineering/Extract%2C%20Transform%20and%20Load%20Market%20Capitalization%20data/banks_project.ipynb#W5sZmlsZQ%3D%3D?line=12'>13</a>\u001b[0m load_to_csv(transformed_data, csv_path)\n\u001b[1;32m     <a href='vscode-notebook-cell:/Users/chuksokoli/Documents/Online%20_Coursera/IBM%20Data%20Engineering%20Professional/Course%203%20-%20Python%20Project%20for%20Data%20Engineering/Extract%2C%20Transform%20and%20Load%20Market%20Capitalization%20data/banks_project.ipynb#W5sZmlsZQ%3D%3D?line=14'>15</a>\u001b[0m log_progress(\u001b[39m\"\u001b[39m\u001b[39mData saved to CSV file\u001b[39m\u001b[39m\"\u001b[39m) \n\u001b[1;32m     <a href='vscode-notebook-cell:/Users/chuksokoli/Documents/Online%20_Coursera/IBM%20Data%20Engineering%20Professional/Course%203%20-%20Python%20Project%20for%20Data%20Engineering/Extract%2C%20Transform%20and%20Load%20Market%20Capitalization%20data/banks_project.ipynb#W5sZmlsZQ%3D%3D?line=16'>17</a>\u001b[0m \u001b[39m# Use SQLite3 to create and connect to a new database World_Economies.db\u001b[39;00m\n",
      "\u001b[1;32m/Users/chuksokoli/Documents/Online _Coursera/IBM Data Engineering Professional/Course 3 - Python Project for Data Engineering/Extract, Transform and Load Market Capitalization data/banks_project.ipynb Cell 6\u001b[0m line \u001b[0;36m6\n\u001b[1;32m     <a href='vscode-notebook-cell:/Users/chuksokoli/Documents/Online%20_Coursera/IBM%20Data%20Engineering%20Professional/Course%203%20-%20Python%20Project%20for%20Data%20Engineering/Extract%2C%20Transform%20and%20Load%20Market%20Capitalization%20data/banks_project.ipynb#W5sZmlsZQ%3D%3D?line=63'>64</a>\u001b[0m \u001b[39mdef\u001b[39;00m \u001b[39mload_to_csv\u001b[39m(df, csv_path):\n\u001b[1;32m     <a href='vscode-notebook-cell:/Users/chuksokoli/Documents/Online%20_Coursera/IBM%20Data%20Engineering%20Professional/Course%203%20-%20Python%20Project%20for%20Data%20Engineering/Extract%2C%20Transform%20and%20Load%20Market%20Capitalization%20data/banks_project.ipynb#W5sZmlsZQ%3D%3D?line=64'>65</a>\u001b[0m     \u001b[39m''' This function saves the final dataframe as a `CSV` file \u001b[39;00m\n\u001b[1;32m     <a href='vscode-notebook-cell:/Users/chuksokoli/Documents/Online%20_Coursera/IBM%20Data%20Engineering%20Professional/Course%203%20-%20Python%20Project%20for%20Data%20Engineering/Extract%2C%20Transform%20and%20Load%20Market%20Capitalization%20data/banks_project.ipynb#W5sZmlsZQ%3D%3D?line=65'>66</a>\u001b[0m \u001b[39m    in the provided path. Function returns nothing.'''\u001b[39;00m\n\u001b[0;32m---> <a href='vscode-notebook-cell:/Users/chuksokoli/Documents/Online%20_Coursera/IBM%20Data%20Engineering%20Professional/Course%203%20-%20Python%20Project%20for%20Data%20Engineering/Extract%2C%20Transform%20and%20Load%20Market%20Capitalization%20data/banks_project.ipynb#W5sZmlsZQ%3D%3D?line=66'>67</a>\u001b[0m     df\u001b[39m.\u001b[39;49mto_csv(csv_path)\n",
      "File \u001b[0;32m~/anaconda3/lib/python3.10/site-packages/pandas/util/_decorators.py:211\u001b[0m, in \u001b[0;36mdeprecate_kwarg.<locals>._deprecate_kwarg.<locals>.wrapper\u001b[0;34m(*args, **kwargs)\u001b[0m\n\u001b[1;32m    209\u001b[0m     \u001b[39melse\u001b[39;00m:\n\u001b[1;32m    210\u001b[0m         kwargs[new_arg_name] \u001b[39m=\u001b[39m new_arg_value\n\u001b[0;32m--> 211\u001b[0m \u001b[39mreturn\u001b[39;00m func(\u001b[39m*\u001b[39;49margs, \u001b[39m*\u001b[39;49m\u001b[39m*\u001b[39;49mkwargs)\n",
      "File \u001b[0;32m~/anaconda3/lib/python3.10/site-packages/pandas/core/generic.py:3720\u001b[0m, in \u001b[0;36mNDFrame.to_csv\u001b[0;34m(self, path_or_buf, sep, na_rep, float_format, columns, header, index, index_label, mode, encoding, compression, quoting, quotechar, lineterminator, chunksize, date_format, doublequote, escapechar, decimal, errors, storage_options)\u001b[0m\n\u001b[1;32m   3709\u001b[0m df \u001b[39m=\u001b[39m \u001b[39mself\u001b[39m \u001b[39mif\u001b[39;00m \u001b[39misinstance\u001b[39m(\u001b[39mself\u001b[39m, ABCDataFrame) \u001b[39melse\u001b[39;00m \u001b[39mself\u001b[39m\u001b[39m.\u001b[39mto_frame()\n\u001b[1;32m   3711\u001b[0m formatter \u001b[39m=\u001b[39m DataFrameFormatter(\n\u001b[1;32m   3712\u001b[0m     frame\u001b[39m=\u001b[39mdf,\n\u001b[1;32m   3713\u001b[0m     header\u001b[39m=\u001b[39mheader,\n\u001b[0;32m   (...)\u001b[0m\n\u001b[1;32m   3717\u001b[0m     decimal\u001b[39m=\u001b[39mdecimal,\n\u001b[1;32m   3718\u001b[0m )\n\u001b[0;32m-> 3720\u001b[0m \u001b[39mreturn\u001b[39;00m DataFrameRenderer(formatter)\u001b[39m.\u001b[39;49mto_csv(\n\u001b[1;32m   3721\u001b[0m     path_or_buf,\n\u001b[1;32m   3722\u001b[0m     lineterminator\u001b[39m=\u001b[39;49mlineterminator,\n\u001b[1;32m   3723\u001b[0m     sep\u001b[39m=\u001b[39;49msep,\n\u001b[1;32m   3724\u001b[0m     encoding\u001b[39m=\u001b[39;49mencoding,\n\u001b[1;32m   3725\u001b[0m     errors\u001b[39m=\u001b[39;49merrors,\n\u001b[1;32m   3726\u001b[0m     compression\u001b[39m=\u001b[39;49mcompression,\n\u001b[1;32m   3727\u001b[0m     quoting\u001b[39m=\u001b[39;49mquoting,\n\u001b[1;32m   3728\u001b[0m     columns\u001b[39m=\u001b[39;49mcolumns,\n\u001b[1;32m   3729\u001b[0m     index_label\u001b[39m=\u001b[39;49mindex_label,\n\u001b[1;32m   3730\u001b[0m     mode\u001b[39m=\u001b[39;49mmode,\n\u001b[1;32m   3731\u001b[0m     chunksize\u001b[39m=\u001b[39;49mchunksize,\n\u001b[1;32m   3732\u001b[0m     quotechar\u001b[39m=\u001b[39;49mquotechar,\n\u001b[1;32m   3733\u001b[0m     date_format\u001b[39m=\u001b[39;49mdate_format,\n\u001b[1;32m   3734\u001b[0m     doublequote\u001b[39m=\u001b[39;49mdoublequote,\n\u001b[1;32m   3735\u001b[0m     escapechar\u001b[39m=\u001b[39;49mescapechar,\n\u001b[1;32m   3736\u001b[0m     storage_options\u001b[39m=\u001b[39;49mstorage_options,\n\u001b[1;32m   3737\u001b[0m )\n",
      "File \u001b[0;32m~/anaconda3/lib/python3.10/site-packages/pandas/util/_decorators.py:211\u001b[0m, in \u001b[0;36mdeprecate_kwarg.<locals>._deprecate_kwarg.<locals>.wrapper\u001b[0;34m(*args, **kwargs)\u001b[0m\n\u001b[1;32m    209\u001b[0m     \u001b[39melse\u001b[39;00m:\n\u001b[1;32m    210\u001b[0m         kwargs[new_arg_name] \u001b[39m=\u001b[39m new_arg_value\n\u001b[0;32m--> 211\u001b[0m \u001b[39mreturn\u001b[39;00m func(\u001b[39m*\u001b[39;49margs, \u001b[39m*\u001b[39;49m\u001b[39m*\u001b[39;49mkwargs)\n",
      "File \u001b[0;32m~/anaconda3/lib/python3.10/site-packages/pandas/io/formats/format.py:1189\u001b[0m, in \u001b[0;36mDataFrameRenderer.to_csv\u001b[0;34m(self, path_or_buf, encoding, sep, columns, index_label, mode, compression, quoting, quotechar, lineterminator, chunksize, date_format, doublequote, escapechar, errors, storage_options)\u001b[0m\n\u001b[1;32m   1168\u001b[0m     created_buffer \u001b[39m=\u001b[39m \u001b[39mFalse\u001b[39;00m\n\u001b[1;32m   1170\u001b[0m csv_formatter \u001b[39m=\u001b[39m CSVFormatter(\n\u001b[1;32m   1171\u001b[0m     path_or_buf\u001b[39m=\u001b[39mpath_or_buf,\n\u001b[1;32m   1172\u001b[0m     lineterminator\u001b[39m=\u001b[39mlineterminator,\n\u001b[0;32m   (...)\u001b[0m\n\u001b[1;32m   1187\u001b[0m     formatter\u001b[39m=\u001b[39m\u001b[39mself\u001b[39m\u001b[39m.\u001b[39mfmt,\n\u001b[1;32m   1188\u001b[0m )\n\u001b[0;32m-> 1189\u001b[0m csv_formatter\u001b[39m.\u001b[39;49msave()\n\u001b[1;32m   1191\u001b[0m \u001b[39mif\u001b[39;00m created_buffer:\n\u001b[1;32m   1192\u001b[0m     \u001b[39massert\u001b[39;00m \u001b[39misinstance\u001b[39m(path_or_buf, StringIO)\n",
      "File \u001b[0;32m~/anaconda3/lib/python3.10/site-packages/pandas/io/formats/csvs.py:241\u001b[0m, in \u001b[0;36mCSVFormatter.save\u001b[0;34m(self)\u001b[0m\n\u001b[1;32m    237\u001b[0m \u001b[39m\"\"\"\u001b[39;00m\n\u001b[1;32m    238\u001b[0m \u001b[39mCreate the writer & save.\u001b[39;00m\n\u001b[1;32m    239\u001b[0m \u001b[39m\"\"\"\u001b[39;00m\n\u001b[1;32m    240\u001b[0m \u001b[39m# apply compression and byte/text conversion\u001b[39;00m\n\u001b[0;32m--> 241\u001b[0m \u001b[39mwith\u001b[39;00m get_handle(\n\u001b[1;32m    242\u001b[0m     \u001b[39mself\u001b[39;49m\u001b[39m.\u001b[39;49mfilepath_or_buffer,\n\u001b[1;32m    243\u001b[0m     \u001b[39mself\u001b[39;49m\u001b[39m.\u001b[39;49mmode,\n\u001b[1;32m    244\u001b[0m     encoding\u001b[39m=\u001b[39;49m\u001b[39mself\u001b[39;49m\u001b[39m.\u001b[39;49mencoding,\n\u001b[1;32m    245\u001b[0m     errors\u001b[39m=\u001b[39;49m\u001b[39mself\u001b[39;49m\u001b[39m.\u001b[39;49merrors,\n\u001b[1;32m    246\u001b[0m     compression\u001b[39m=\u001b[39;49m\u001b[39mself\u001b[39;49m\u001b[39m.\u001b[39;49mcompression,\n\u001b[1;32m    247\u001b[0m     storage_options\u001b[39m=\u001b[39;49m\u001b[39mself\u001b[39;49m\u001b[39m.\u001b[39;49mstorage_options,\n\u001b[1;32m    248\u001b[0m ) \u001b[39mas\u001b[39;00m handles:\n\u001b[1;32m    249\u001b[0m \n\u001b[1;32m    250\u001b[0m     \u001b[39m# Note: self.encoding is irrelevant here\u001b[39;00m\n\u001b[1;32m    251\u001b[0m     \u001b[39mself\u001b[39m\u001b[39m.\u001b[39mwriter \u001b[39m=\u001b[39m csvlib\u001b[39m.\u001b[39mwriter(\n\u001b[1;32m    252\u001b[0m         handles\u001b[39m.\u001b[39mhandle,\n\u001b[1;32m    253\u001b[0m         lineterminator\u001b[39m=\u001b[39m\u001b[39mself\u001b[39m\u001b[39m.\u001b[39mlineterminator,\n\u001b[0;32m   (...)\u001b[0m\n\u001b[1;32m    258\u001b[0m         quotechar\u001b[39m=\u001b[39m\u001b[39mself\u001b[39m\u001b[39m.\u001b[39mquotechar,\n\u001b[1;32m    259\u001b[0m     )\n\u001b[1;32m    261\u001b[0m     \u001b[39mself\u001b[39m\u001b[39m.\u001b[39m_save()\n",
      "File \u001b[0;32m~/anaconda3/lib/python3.10/site-packages/pandas/io/common.py:734\u001b[0m, in \u001b[0;36mget_handle\u001b[0;34m(path_or_buf, mode, encoding, compression, memory_map, is_text, errors, storage_options)\u001b[0m\n\u001b[1;32m    732\u001b[0m \u001b[39m# Only for write methods\u001b[39;00m\n\u001b[1;32m    733\u001b[0m \u001b[39mif\u001b[39;00m \u001b[39m\"\u001b[39m\u001b[39mr\u001b[39m\u001b[39m\"\u001b[39m \u001b[39mnot\u001b[39;00m \u001b[39min\u001b[39;00m mode \u001b[39mand\u001b[39;00m is_path:\n\u001b[0;32m--> 734\u001b[0m     check_parent_directory(\u001b[39mstr\u001b[39;49m(handle))\n\u001b[1;32m    736\u001b[0m \u001b[39mif\u001b[39;00m compression:\n\u001b[1;32m    737\u001b[0m     \u001b[39mif\u001b[39;00m compression \u001b[39m!=\u001b[39m \u001b[39m\"\u001b[39m\u001b[39mzstd\u001b[39m\u001b[39m\"\u001b[39m:\n\u001b[1;32m    738\u001b[0m         \u001b[39m# compression libraries do not like an explicit text-mode\u001b[39;00m\n",
      "File \u001b[0;32m~/anaconda3/lib/python3.10/site-packages/pandas/io/common.py:597\u001b[0m, in \u001b[0;36mcheck_parent_directory\u001b[0;34m(path)\u001b[0m\n\u001b[1;32m    595\u001b[0m parent \u001b[39m=\u001b[39m Path(path)\u001b[39m.\u001b[39mparent\n\u001b[1;32m    596\u001b[0m \u001b[39mif\u001b[39;00m \u001b[39mnot\u001b[39;00m parent\u001b[39m.\u001b[39mis_dir():\n\u001b[0;32m--> 597\u001b[0m     \u001b[39mraise\u001b[39;00m \u001b[39mOSError\u001b[39;00m(\u001b[39mrf\u001b[39m\u001b[39m\"\u001b[39m\u001b[39mCannot save file into a non-existent directory: \u001b[39m\u001b[39m'\u001b[39m\u001b[39m{\u001b[39;00mparent\u001b[39m}\u001b[39;00m\u001b[39m'\u001b[39m\u001b[39m\"\u001b[39m)\n",
      "\u001b[0;31mOSError\u001b[0m: Cannot save file into a non-existent directory: '/Users/chuksokoli/Documents/IBM-Data-Engineering-Professional/Course 3 - Python Project for Data Engineering/Extract, Transform and Load Market Capitalization data'"
     ]
    }
   ],
   "source": [
    "# Log the initialization of the ETL process \n",
    "log_progress(\"Preliminaries complete. Initiating ETL process\")\n",
    "extracted_data = extract(data_url, table_attribs)\n",
    " \n",
    "# Log the completion of the Extraction process and begin transformation process\n",
    "log_progress(\"Data extraction complete. Initiating Transformation process\")\n",
    "transformed_data = transform(extracted_data, csv_url) \n",
    "print(\"Transformed Data\") \n",
    "print(transformed_data) \n",
    " \n",
    "# Log the completion of the Transformation process and begin loading process\n",
    "log_progress(\"Data transformation complete. Initiating loading process\")\n",
    "load_to_csv(transformed_data, csv_path)\n",
    "\n",
    "log_progress(\"Data saved to CSV file\") \n",
    "\n",
    "# Use SQLite3 to create and connect to a new database World_Economies.db\n",
    "sql_connection = sqlite3.connect(db_name)\n",
    "\n",
    "log_progress(\"SQL Connection initiated\")\n",
    "\n",
    "load_to_db(transformed_data, sql_connection, table_name)\n",
    "\n",
    "log_progress(\"Data loaded to Database as table. Running the query\")\n",
    "\n",
    "query_statement_1 = f\"SELECT Name, MC_GBP_Billions FROM {table_name}\"\n",
    "query_statement_2 = f\"SELECT Name, MC_EUR_Billions FROM {table_name}\"\n",
    "query_statement_3 = f\"SELECT Name, MC_INR_Billions FROM {table_name}\"\n",
    "\n",
    "print(run_query(query_statement_1, sql_connection))\n",
    "print()\n",
    "print(run_query(query_statement_2, sql_connection))\n",
    "print()\n",
    "print(run_query(query_statement_3, sql_connection))\n",
    " \n",
    "# Log the completion of the process \n",
    "log_progress(\"Process Complete\") \n",
    "\n",
    "sql_connection.close()"
   ]
  },
  {
   "cell_type": "code",
   "execution_count": null,
   "metadata": {},
   "outputs": [],
   "source": []
  }
 ],
 "metadata": {
  "kernelspec": {
   "display_name": "Python 3",
   "language": "python",
   "name": "python3"
  },
  "language_info": {
   "codemirror_mode": {
    "name": "ipython",
    "version": 3
   },
   "file_extension": ".py",
   "mimetype": "text/x-python",
   "name": "python",
   "nbconvert_exporter": "python",
   "pygments_lexer": "ipython3",
   "version": "3.10.9"
  }
 },
 "nbformat": 4,
 "nbformat_minor": 2
}
